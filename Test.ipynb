{
 "cells": [
  {
   "cell_type": "code",
   "execution_count": 20,
   "id": "1c767669",
   "metadata": {},
   "outputs": [
    {
     "data": {
      "image/png": "[encoded data removed]",
      "text/latex": [
       "$\\displaystyle C + Z^{2}$"
      ],
      "text/plain": [
       "     2\n",
       "C + Z "
      ]
     },
     "metadata": {},
     "output_type": "display_data"
    }
   ],
   "source": [
    "from sympy import symbols, simplify\n",
    "\n",
    "# Declare symbols\n",
    "X, Y, Z = symbols('X Y Z')\n",
    "C = symbols('C')\n",
    "\n",
    "\n",
    "\n",
    "# Define T differently\n",
    "T = X**2 + Y**2 + Z**2\n",
    "\n",
    "# Simplify T by substituting C\n",
    "T_simplified = T.subs(X**2 + Y**2, C)\n",
    "\n",
    "# Display the simplified version of T\n",
    "display(T_simplified)\n"
   ]
  },
  {
   "cell_type": "code",
   "execution_count": 3,
   "id": "57d02ee6",
   "metadata": {},
   "outputs": [
    {
     "data": {
      "image/png": "[encoded data removed]",
      "text/latex": [
       "$\\displaystyle X^{2} + Y^{2}$"
      ],
      "text/plain": [
       " 2    2\n",
       "X  + Y "
      ]
     },
     "metadata": {},
     "output_type": "display_data"
    }
   ],
   "source": []
  },
  {
   "cell_type": "code",
   "execution_count": null,
   "id": "0af51c7e",
   "metadata": {},
   "outputs": [],
   "source": []
  }
 ],
 "metadata": {
  "kernelspec": {
   "display_name": "Python 3 (ipykernel)",
   "language": "python",
   "name": "python3"
  },
  "language_info": {
   "codemirror_mode": {
    "name": "ipython",
    "version": 3
   },
   "file_extension": ".py",
   "mimetype": "text/x-python",
   "name": "python",
   "nbconvert_exporter": "python",
   "pygments_lexer": "ipython3",
   "version": "3.8.8"
  }
 },
 "nbformat": 4,
 "nbformat_minor": 5
}
