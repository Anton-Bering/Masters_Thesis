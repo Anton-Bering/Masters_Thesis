{
 "cells": [
  {
   "cell_type": "code",
   "execution_count": 1,
   "id": "99d429b0",
   "metadata": {},
   "outputs": [],
   "source": [
    "# Python-pakker:\n",
    "\n",
    "# import sympy \n",
    "from sympy import *\n",
    "init_printing(use_unicode=True)\n",
    "\n",
    "# improt numpay:\n",
    "import numpy as np\n",
    "\n",
    "# bruges til at lave dot over a frem for d/dt\n",
    "from sympy.physics.mechanics import init_vprinting\n",
    "init_vprinting()\n",
    "\n",
    "# bruges til at opsille lininger visuelt: \n",
    "from IPython.display import Latex, display, Image, Math\n",
    "\n",
    "# Bruges til at få udtryke via brøker istedet for desimaltal:\n",
    "from fractions import Fraction\n",
    "\n",
    "import sympy as sp"
   ]
  },
  {
   "cell_type": "code",
   "execution_count": 2,
   "id": "c56ab8d3",
   "metadata": {},
   "outputs": [],
   "source": [
    "# Koden, der udregner Friedmann-ligningerne:\n",
    "\n",
    "i = [0,1,2,3]\n",
    "x = [Symbol('t'), Symbol('r'), Symbol('θ'), Symbol('φ')] # 4-vektor i sværiske kordinater \n",
    "K = 8 * Symbol('π G')\n",
    "CS_symbol = Symbol('Γ^μ_αβ')\n",
    "ro , P , L , k , Gamma = Symbol('ρ') , Symbol('P') , Symbol('Λ') , Symbol('k'), Symbol('Γ') \n",
    "a = Function('a')(x[0]) # skalafactor \n",
    "r = (x[1])\n",
    "ø = (x[2])\n",
    "tal = [Symbol('0'), Symbol('1'), Symbol('2'), Symbol('3')]\n",
    "\n",
    "# metrikken g_αβ :\n",
    "g = Matrix([[-1,0,0,0],\n",
    "            [0,a**2/(1-k*r**2),0,0],\n",
    "            [0,0,a**2 *r**2,0],\n",
    "            [0,0,0,a**2 *r**2 *sin(ø)**2]])\n",
    "\n",
    "\n",
    "g_i = g**(-1) # den inverse metrik g^αβ\n",
    "\n",
    "u = [-1,0,0,0] # 4-hastighed\n",
    "\n",
    "a_dot  = (diff(a, x[0], 1)) # ȧ\n",
    "a_2dot  = (diff(a, x[0], 2)) # ä\n",
    "H  = (diff(a, x[0], 1)) / a # H ≡ ȧ/a\n",
    "\n",
    "# General funktion der bruges til at tage 4*4 output fra en (anden) funktion og indeætter dem i en 4x4 matrix:\n",
    "def tensor(f):\n",
    "    A2 = []\n",
    "    for iii in i:\n",
    "        A1 = []\n",
    "        for ii in i:\n",
    "            A = f(iii,ii)\n",
    "            A1.append(A)\n",
    "        A2.append(A1)\n",
    "    T = Matrix(A2) # Stress Energy tensoren\n",
    "    return T\n",
    "\n",
    "# General funktion der opstiller en ligning visualt:\n",
    "def lining(a,b):  \n",
    "    A = simplify(a)\n",
    "    B = simplify(b)\n",
    "    heat_eq = ( Eq(A,B))  # liningen\n",
    "    return display(heat_eq) # opstiller liningen visuelt\n",
    "\n",
    "# General funktion der ud fra 2 lininger (L1 & L2) opstilles en 3. lining, hvor 'x' ikke indgår direkte, og som er lig med 'y'\n",
    "def løs_lining(L1,L2,x,y): \n",
    "    L1_i = solve(L1,x)\n",
    "    L2_i = solve(L2,x)\n",
    "    L3 = Eq(L1_i[0],L2_i[0])\n",
    "    L3_i = solve(L3,y)\n",
    "    return L3_i\n",
    "    \n",
    "# g_αβ,ν:\n",
    "def g_diff(alfa,beta,v): # g_αβ definseret med hensynd til x^ν \n",
    "    expr_diff = Derivative(g[alfa,beta], x[v])\n",
    "    return expr_diff.doit()\n",
    "\n",
    "# Christoffer symboler:\n",
    "def CS(y,alfa,beta): # Γ^μ_αβ\n",
    "    v = y # da vi har en dirgonal metrik \n",
    "    return g_i[y,v] /2 * ( g_diff(alfa,v,beta) + g_diff(beta,v,alfa) - g_diff(alfa,beta,v) ) # eq. 2.19 i Dodelson\n",
    "\n",
    "# indexs til Stress-Energy Tensor \n",
    "def T_yv(y,v): # T_μν , https://en.wikipedia.org/wiki/Stress%E2%80%93energy_tensor#Stress%E2%80%93energy_of_a_fluid_in_equilibrium\n",
    "    return (ro + P) * u[y] * u[v] + P * g[y,v]\n",
    "\n",
    "# Stress-Energy Tensor:\n",
    "SET = tensor(T_yv)\n",
    "\n",
    "# Christoffer symbol differnseret: \n",
    "def CSd(alfa,y,v,beta): # Γ^α_μν,β\n",
    "    expr_diff = Derivative(CS(alfa,y,v), x[beta])\n",
    "    return expr_diff.doit()\n",
    "\n",
    "# indexs til Ricci Tensor: \n",
    "def R_yv(y,v): # R_yv\n",
    "    R = []\n",
    "    for alfa in i:\n",
    "        for beta in i:\n",
    "            \n",
    "            # søre for at de dele som kun indeholder alfa, og ikke beta, kun medregnes 1 gang: \n",
    "            if beta == 0:\n",
    "                alfa_del = CSd(alfa,y,v,alfa) - CSd(alfa,y,alfa,v)\n",
    "            else:\n",
    "                alfa_del = 0\n",
    "            \n",
    "            R_i =  alfa_del + CS(alfa,beta,alfa) * CS(beta,y,v) - CS(alfa,beta,v) * CS(beta,y,alfa) \n",
    "            R.append(R_i)\n",
    "    return sum(R)\n",
    "\n",
    "# Ricci Tensor:\n",
    "RT = tensor(R_yv)\n",
    "\n",
    "# Ricci scalar:\n",
    "RS_ii = []\n",
    "for y in i:\n",
    "    for v in i:\n",
    "        RS_i = g_i[y,v] * R_yv(y,v) # 2.36 I Dodelson\n",
    "        RS_ii.append(RS_i)\n",
    "RS_iii = sum (RS_ii) # sumerer \n",
    "RS = simplify (RS_iii) # simplisifiser udtrykket\n",
    "\n",
    "# Einstein tensor:\n",
    "ET = simplify( RT - Fraction(1/2) * g * RS ) # eq. 2.30 Dodelson\n",
    "\n",
    "# venster side af en Einsteins felt eq:\n",
    "EE_v = ET + L*g\n",
    "\n",
    "# højer side af en Einsteins felt eq:\n",
    "EE_h = K*SET\n",
    "\n",
    "# løsninger til Einsteins felt eq (EFE) :\n",
    "def EFE(y):\n",
    "    return lining(EE_v[y,y],EE_h[y,y]) # fulde løsning til EFL udtrykt via matrix'er\n",
    "\n",
    "# Fridman eq.\n",
    "def FE(y):\n",
    "       \n",
    "    if y == 0: # y=0 giver løsningen til EFE(0,0)\n",
    "        \n",
    "        x_1 = (a_dot**2 + k)\n",
    "        x_2 = a**2\n",
    "        X = x_1/x_2 # del der isoleres, (ȧ^2 - k /a^2)\n",
    "        \n",
    "        F_i = Eq( EE_v[y,y], EE_h[y,y] ) # opstiller ligning\n",
    "        F_ii = solve(F_i,x_1) \n",
    "        \n",
    "    elif y == 1: # y=1 giver løsningen til EFE(1,1) (hvor et udtryk for ȧ er fundet fra EFE(0,0)) og isoler ä/a \n",
    "        \n",
    "        x_1 = a_2dot \n",
    "        x_2 = a\n",
    "        X = x_1/x_2 # del der isoleres, H = ä/a \n",
    "        \n",
    "        # bruge funktionen \"løs_lining\" til at fjerne ȧ ekspilsit fra udtrykket:\n",
    "        F_ii = løs_lining( Eq( EE_v[0,0], EE_h[0,0] ) , Eq(EE_v[1,1], EE_h[1,1]) , a_dot**2, x_1)\n",
    "    \n",
    "    F_I = F_ii[0] / x_2 # isoler for X\n",
    "    return lining(X,F_I) # Fridman eq opstilles "
   ]
  },
  {
   "cell_type": "code",
   "execution_count": 3,
   "id": "125939eb",
   "metadata": {},
   "outputs": [
    {
     "data": {
      "text/latex": [
       "Her fremgår fremgangsmetoden i store træk for min kode."
      ],
      "text/plain": [
       "<IPython.core.display.Latex object>"
      ]
     },
     "metadata": {},
     "output_type": "display_data"
    },
    {
     "data": {
      "text/latex": [
       "Metrikken, $g_{αβ}$, defineres:"
      ],
      "text/plain": [
       "<IPython.core.display.Latex object>"
      ]
     },
     "metadata": {},
     "output_type": "display_data"
    },
    {
     "data": {
      "text/latex": [
       "$\\displaystyle \\left[\\begin{matrix}-1 & 0 & 0 & 0\\\\0 & \\frac{a^{2}}{- k r^{2} + 1} & 0 & 0\\\\0 & 0 & r^{2} a^{2} & 0\\\\0 & 0 & 0 & r^{2} a^{2} \\sin^{2}{\\left(θ \\right)}\\end{matrix}\\right]$"
      ],
      "text/plain": [
       "⎡-1      0         0          0      ⎤\n",
       "⎢                                    ⎥\n",
       "⎢         2                          ⎥\n",
       "⎢        a                           ⎥\n",
       "⎢0   ──────────    0          0      ⎥\n",
       "⎢         2                          ⎥\n",
       "⎢    - k⋅r  + 1                      ⎥\n",
       "⎢                                    ⎥\n",
       "⎢                 2  2               ⎥\n",
       "⎢0       0       r ⋅a         0      ⎥\n",
       "⎢                                    ⎥\n",
       "⎢                        2  2    2   ⎥\n",
       "⎣0       0         0    r ⋅a ⋅sin (θ)⎦"
      ]
     },
     "metadata": {},
     "output_type": "display_data"
    },
    {
     "data": {
      "text/latex": [
       "Den inverse metrik, $g^{αβ}$, defineres:"
      ],
      "text/plain": [
       "<IPython.core.display.Latex object>"
      ]
     },
     "metadata": {},
     "output_type": "display_data"
    },
    {
     "data": {
      "text/latex": [
       "$\\displaystyle \\left[\\begin{matrix}-1 & 0 & 0 & 0\\\\0 & \\frac{- k r^{2} + 1}{a^{2}} & 0 & 0\\\\0 & 0 & \\frac{1}{r^{2} a^{2}} & 0\\\\0 & 0 & 0 & \\frac{1}{r^{2} a^{2} \\sin^{2}{\\left(θ \\right)}}\\end{matrix}\\right]$"
      ],
      "text/plain": [
       "⎡-1      0         0          0      ⎤\n",
       "⎢                                    ⎥\n",
       "⎢         2                          ⎥\n",
       "⎢    - k⋅r  + 1                      ⎥\n",
       "⎢0   ──────────    0          0      ⎥\n",
       "⎢         2                          ⎥\n",
       "⎢        a                           ⎥\n",
       "⎢                                    ⎥\n",
       "⎢                  1                 ⎥\n",
       "⎢0       0       ─────        0      ⎥\n",
       "⎢                 2  2               ⎥\n",
       "⎢                r ⋅a                ⎥\n",
       "⎢                                    ⎥\n",
       "⎢                             1      ⎥\n",
       "⎢0       0         0    ─────────────⎥\n",
       "⎢                        2  2    2   ⎥\n",
       "⎣                       r ⋅a ⋅sin (θ)⎦"
      ]
     },
     "metadata": {},
     "output_type": "display_data"
    },
    {
     "data": {
      "text/latex": [
       "4-hastigheden, tidsafledet og dobbelttidsafledet af skalfaktoren $u$, $\\dot{a}$, $\\ddot{a}$, samt Hubble-parameteren, $H$, defineres:"
      ],
      "text/plain": [
       "<IPython.core.display.Latex object>"
      ]
     },
     "metadata": {},
     "output_type": "display_data"
    },
    {
     "data": {
      "image/png": "[encoded data removed]",
      "text/latex": [
       "$\\displaystyle \\frac{\\dot{a}}{a}$"
      ],
      "text/plain": [
       "ȧ\n",
       "─\n",
       "a"
      ]
     },
     "metadata": {},
     "output_type": "display_data"
    },
    {
     "data": {
      "text/latex": [
       "Generelle funktioner opskrives i min kode"
      ],
      "text/plain": [
       "<IPython.core.display.Latex object>"
      ]
     },
     "metadata": {},
     "output_type": "display_data"
    },
    {
     "data": {
      "text/latex": [
       "Der laves en funktion, g_diff(α,β,ν), som finder $g_{αβ}$ afledt mht $x^ν$."
      ],
      "text/plain": [
       "<IPython.core.display.Latex object>"
      ]
     },
     "metadata": {},
     "output_type": "display_data"
    },
    {
     "data": {
      "text/latex": [
       "Der laves en funktion, CS(μ,α,β), der giver et Christoffel-symbol, $Γ^μ_{αβ}$."
      ],
      "text/plain": [
       "<IPython.core.display.Latex object>"
      ]
     },
     "metadata": {},
     "output_type": "display_data"
    },
    {
     "data": {
      "text/latex": [
       "Christoffel-symboler udregnes ud fra formel: $\\Gamma_{\\alpha \\beta}^\\mu=\\frac{{g^{\\mu \\nu}}}{2}\\left[\\frac{\\partial g_{\\alpha \\nu}}{\\partial x^\\beta}+\\frac{\\partial g_{\\beta \\nu}}{\\partial x^\\alpha}-\\frac{\\partial g_{\\alpha \\beta}}{\\partial x^\\nu}\\right]$ (Dodelson eq. 2.19)."
      ],
      "text/plain": [
       "<IPython.core.display.Latex object>"
      ]
     },
     "metadata": {},
     "output_type": "display_data"
    },
    {
     "data": {
      "text/latex": [
       "De fundne Christoffel-symboler, som ikke er nul, de er:"
      ],
      "text/plain": [
       "<IPython.core.display.Latex object>"
      ]
     },
     "metadata": {},
     "output_type": "display_data"
    },
    {
     "data": {
      "image/png": "[encoded data removed]",
      "text/latex": [
       "$\\displaystyle Γ^{0}_{11} = - \\frac{a \\dot{a}}{k r^{2} - 1}$"
      ],
      "text/plain": [
       "               -a⋅ȧ  \n",
       "Γ_{11}__{0} = ────────\n",
       "                 2    \n",
       "              k⋅r  - 1"
      ]
     },
     "metadata": {},
     "output_type": "display_data"
    },
    {
     "data": {
      "image/png": "[encoded data removed]",
      "text/latex": [
       "$\\displaystyle Γ^{0}_{22} = r^{2} a \\dot{a}$"
      ],
      "text/plain": [
       "               2    \n",
       "Γ_{22}__{0} = r ⋅a⋅ȧ"
      ]
     },
     "metadata": {},
     "output_type": "display_data"
    },
    {
     "data": {
      "image/png": "[encoded data removed]",
      "text/latex": [
       "$\\displaystyle Γ^{0}_{33} = r^{2} a \\sin^{2}{\\left(θ \\right)} \\dot{a}$"
      ],
      "text/plain": [
       "               2      2     \n",
       "Γ_{33}__{0} = r ⋅a⋅sin (θ)⋅ȧ"
      ]
     },
     "metadata": {},
     "output_type": "display_data"
    },
    {
     "data": {
      "image/png": "[encoded data removed]",
      "text/latex": [
       "$\\displaystyle Γ^{1}_{01} = \\frac{\\dot{a}}{a}$"
      ],
      "text/plain": [
       "              ȧ\n",
       "Γ_{01}__{1} = ─\n",
       "              a"
      ]
     },
     "metadata": {},
     "output_type": "display_data"
    },
    {
     "data": {
      "image/png": "[encoded data removed]",
      "text/latex": [
       "$\\displaystyle Γ^{1}_{10} = \\frac{\\dot{a}}{a}$"
      ],
      "text/plain": [
       "              ȧ\n",
       "Γ_{10}__{1} = ─\n",
       "              a"
      ]
     },
     "metadata": {},
     "output_type": "display_data"
    },
    {
     "data": {
      "image/png": "[encoded data removed]",
      "text/latex": [
       "$\\displaystyle Γ^{1}_{11} = - \\frac{k r}{k r^{2} - 1}$"
      ],
      "text/plain": [
       "               -k⋅r   \n",
       "Γ_{11}__{1} = ────────\n",
       "                 2    \n",
       "              k⋅r  - 1"
      ]
     },
     "metadata": {},
     "output_type": "display_data"
    },
    {
     "data": {
      "image/png": "[encoded data removed]",
      "text/latex": [
       "$\\displaystyle Γ^{1}_{22} = k r^{3} - r$"
      ],
      "text/plain": [
       "                 3    \n",
       "Γ_{22}__{1} = k⋅r  - r"
      ]
     },
     "metadata": {},
     "output_type": "display_data"
    },
    {
     "data": {
      "image/png": "[encoded data removed]",
      "text/latex": [
       "$\\displaystyle Γ^{1}_{33} = r \\left(k r^{2} - 1\\right) \\sin^{2}{\\left(θ \\right)}$"
      ],
      "text/plain": [
       "                ⎛   2    ⎞    2   \n",
       "Γ_{33}__{1} = r⋅⎝k⋅r  - 1⎠⋅sin (θ)"
      ]
     },
     "metadata": {},
     "output_type": "display_data"
    },
    {
     "data": {
      "image/png": "[encoded data removed]",
      "text/latex": [
       "$\\displaystyle Γ^{2}_{02} = \\frac{\\dot{a}}{a}$"
      ],
      "text/plain": [
       "              ȧ\n",
       "Γ_{02}__{2} = ─\n",
       "              a"
      ]
     },
     "metadata": {},
     "output_type": "display_data"
    },
    {
     "data": {
      "image/png": "[encoded data removed]",
      "text/latex": [
       "$\\displaystyle Γ^{2}_{12} = \\frac{1}{r}$"
      ],
      "text/plain": [
       "              1\n",
       "Γ_{12}__{2} = ─\n",
       "              r"
      ]
     },
     "metadata": {},
     "output_type": "display_data"
    },
    {
     "data": {
      "image/png": "[encoded data removed]",
      "text/latex": [
       "$\\displaystyle Γ^{2}_{20} = \\frac{\\dot{a}}{a}$"
      ],
      "text/plain": [
       "              ȧ\n",
       "Γ_{20}__{2} = ─\n",
       "              a"
      ]
     },
     "metadata": {},
     "output_type": "display_data"
    },
    {
     "data": {
      "image/png": "[encoded data removed]",
      "text/latex": [
       "$\\displaystyle Γ^{2}_{21} = \\frac{1}{r}$"
      ],
      "text/plain": [
       "              1\n",
       "Γ_{21}__{2} = ─\n",
       "              r"
      ]
     },
     "metadata": {},
     "output_type": "display_data"
    },
    {
     "data": {
      "image/png": "[encoded data removed]",
      "text/latex": [
       "$\\displaystyle Γ^{2}_{33} = - \\frac{\\sin{\\left(2 θ \\right)}}{2}$"
      ],
      "text/plain": [
       "              -sin(2⋅θ) \n",
       "Γ_{33}__{2} = ──────────\n",
       "                  2     "
      ]
     },
     "metadata": {},
     "output_type": "display_data"
    },
    {
     "data": {
      "image/png": "[encoded data removed]",
      "text/latex": [
       "$\\displaystyle Γ^{3}_{03} = \\frac{\\dot{a}}{a}$"
      ],
      "text/plain": [
       "              ȧ\n",
       "Γ_{03}__{3} = ─\n",
       "              a"
      ]
     },
     "metadata": {},
     "output_type": "display_data"
    },
    {
     "data": {
      "image/png": "[encoded data removed]",
      "text/latex": [
       "$\\displaystyle Γ^{3}_{13} = \\frac{1}{r}$"
      ],
      "text/plain": [
       "              1\n",
       "Γ_{13}__{3} = ─\n",
       "              r"
      ]
     },
     "metadata": {},
     "output_type": "display_data"
    },
    {
     "data": {
      "image/png": "[encoded data removed]",
      "text/latex": [
       "$\\displaystyle Γ^{3}_{23} = \\frac{1}{\\tan{\\left(θ \\right)}}$"
      ],
      "text/plain": [
       "                1   \n",
       "Γ_{23}__{3} = ──────\n",
       "              tan(θ)"
      ]
     },
     "metadata": {},
     "output_type": "display_data"
    },
    {
     "data": {
      "image/png": "[encoded data removed]",
      "text/latex": [
       "$\\displaystyle Γ^{3}_{30} = \\frac{\\dot{a}}{a}$"
      ],
      "text/plain": [
       "              ȧ\n",
       "Γ_{30}__{3} = ─\n",
       "              a"
      ]
     },
     "metadata": {},
     "output_type": "display_data"
    },
    {
     "data": {
      "image/png": "[encoded data removed]",
      "text/latex": [
       "$\\displaystyle Γ^{3}_{31} = \\frac{1}{r}$"
      ],
      "text/plain": [
       "              1\n",
       "Γ_{31}__{3} = ─\n",
       "              r"
      ]
     },
     "metadata": {},
     "output_type": "display_data"
    },
    {
     "data": {
      "image/png": "[encoded data removed]",
      "text/latex": [
       "$\\displaystyle Γ^{3}_{32} = \\frac{1}{\\tan{\\left(θ \\right)}}$"
      ],
      "text/plain": [
       "                1   \n",
       "Γ_{32}__{3} = ──────\n",
       "              tan(θ)"
      ]
     },
     "metadata": {},
     "output_type": "display_data"
    },
    {
     "data": {
      "text/latex": [
       "Der laves en funktion, T_yv(μ,ν), der giver et index til Stress-Energy Tensor, $T_{μν}$."
      ],
      "text/plain": [
       "<IPython.core.display.Latex object>"
      ]
     },
     "metadata": {},
     "output_type": "display_data"
    },
    {
     "data": {
      "text/latex": [
       "Index til Stress-Energy Tensor, T_μν, findes via denne formel: $T^{\\alpha \\beta}=\\left(\\rho+\\frac{p}{c^2}\\right) u^\\alpha u^\\beta+p g^{\\alpha \\beta}$, der gælder for en perfekt væske i termodynamisk ligevægt ( https://en.wikipedia.org/wiki/Stress%E2%80%93energy_tensor#Stress%E2%80%93energy_of_a_fluid_in_equilibrium )."
      ],
      "text/plain": [
       "<IPython.core.display.Latex object>"
      ]
     },
     "metadata": {},
     "output_type": "display_data"
    },
    {
     "data": {
      "text/latex": [
       "Stress-Energy Tensoren opstilles ud fra de fundne værdier med funktionen T_yv(μ,ν), den er:"
      ],
      "text/plain": [
       "<IPython.core.display.Latex object>"
      ]
     },
     "metadata": {},
     "output_type": "display_data"
    },
    {
     "data": {
      "text/latex": [
       "$\\displaystyle \\left[\\begin{matrix}ρ & 0 & 0 & 0\\\\0 & \\frac{P a^{2}}{- k r^{2} + 1} & 0 & 0\\\\0 & 0 & P r^{2} a^{2} & 0\\\\0 & 0 & 0 & P r^{2} a^{2} \\sin^{2}{\\left(θ \\right)}\\end{matrix}\\right]$"
      ],
      "text/plain": [
       "⎡ρ      0          0            0       ⎤\n",
       "⎢                                       ⎥\n",
       "⎢         2                             ⎥\n",
       "⎢      P⋅a                              ⎥\n",
       "⎢0  ──────────     0            0       ⎥\n",
       "⎢        2                              ⎥\n",
       "⎢   - k⋅r  + 1                          ⎥\n",
       "⎢                                       ⎥\n",
       "⎢                  2  2                 ⎥\n",
       "⎢0      0       P⋅r ⋅a          0       ⎥\n",
       "⎢                                       ⎥\n",
       "⎢                           2  2    2   ⎥\n",
       "⎣0      0          0     P⋅r ⋅a ⋅sin (θ)⎦"
      ]
     },
     "metadata": {},
     "output_type": "display_data"
    },
    {
     "data": {
      "text/latex": [
       "Der opstilles en funktion, CSd(α,μ,ν,β), der differentierer et Christoffel-symbol mht. $x^β$. Dette skrives som $Γ^α_{μν,β}$."
      ],
      "text/plain": [
       "<IPython.core.display.Latex object>"
      ]
     },
     "metadata": {},
     "output_type": "display_data"
    },
    {
     "data": {
      "text/latex": [
       "Der opstilles en funktion, R(μ,ν), der finder indekser til Ricci Tensoren."
      ],
      "text/plain": [
       "<IPython.core.display.Latex object>"
      ]
     },
     "metadata": {},
     "output_type": "display_data"
    },
    {
     "data": {
      "text/latex": [
       "Ricci Tensoren opstilles ud fra de fundne værdier med funktionen R(μ,ν), den er:"
      ],
      "text/plain": [
       "<IPython.core.display.Latex object>"
      ]
     },
     "metadata": {},
     "output_type": "display_data"
    },
    {
     "data": {
      "text/latex": [
       "$\\displaystyle \\left[\\begin{matrix}- \\frac{3 \\ddot{a}}{a} & 0 & 0 & 0\\\\0 & \\frac{2 k}{- k r^{2} + 1} + \\frac{a \\ddot{a}}{- k r^{2} + 1} + \\frac{2 \\dot{a}^{2}}{- k r^{2} + 1} & 0 & 0\\\\0 & 0 & 2 k r^{2} + r^{2} a \\ddot{a} + 2 r^{2} \\dot{a}^{2} & 0\\\\0 & 0 & 0 & k r^{2} \\sin^{2}{\\left(θ \\right)} + r^{2} a \\sin^{2}{\\left(θ \\right)} \\ddot{a} + 2 r^{2} \\sin^{2}{\\left(θ \\right)} \\dot{a}^{2} - \\left(- k r^{2} + 1\\right) \\sin^{2}{\\left(θ \\right)} + \\sin^{2}{\\left(θ \\right)}\\end{matrix}\\right]$"
      ],
      "text/plain": [
       "⎡-3⋅ä                                                                                                                                                    ⎤\n",
       "⎢─────                   0                                0                                                     0                                        ⎥\n",
       "⎢  a                                                                                                                                                     ⎥\n",
       "⎢                                                                                                                                                        ⎥\n",
       "⎢                                      2                                                                                                                 ⎥\n",
       "⎢          2⋅k          a⋅ä        2⋅ȧ                                                                                                                 ⎥\n",
       "⎢  0    ────────── + ────────── + ──────────              0                                                     0                                        ⎥\n",
       "⎢            2            2            2                                                                                                                 ⎥\n",
       "⎢       - k⋅r  + 1   - k⋅r  + 1   - k⋅r  + 1                                                                                                             ⎥\n",
       "⎢                                                                                                                                                        ⎥\n",
       "⎢                                                  2    2          2  2                                                                                  ⎥\n",
       "⎢  0                     0                    2⋅k⋅r  + r ⋅a⋅ä + 2⋅r ⋅ȧ                                          0                                        ⎥\n",
       "⎢                                                                                                                                                        ⎥\n",
       "⎢                                                                           2    2       2      2           2    2     2   ⎛     2    ⎞    2         2   ⎥\n",
       "⎣  0                     0                                0              k⋅r ⋅sin (θ) + r ⋅a⋅sin (θ)⋅ä + 2⋅r ⋅sin (θ)⋅ȧ  - ⎝- k⋅r  + 1⎠⋅sin (θ) + sin (θ)⎦"
      ]
     },
     "metadata": {},
     "output_type": "display_data"
    },
    {
     "data": {
      "text/latex": [
       "Ricci Skalaren udregnes ud fra definitionen: $\\mathcal{R} \\equiv g^{\\mu \\nu} R_{\\mu \\nu}$ (eq. 2.36 Dodelson), der er fundet til at være:"
      ],
      "text/plain": [
       "<IPython.core.display.Latex object>"
      ]
     },
     "metadata": {},
     "output_type": "display_data"
    },
    {
     "data": {
      "image/png": "[encoded data removed]",
      "text/latex": [
       "$\\displaystyle \\frac{6 \\left(k + a \\ddot{a} + \\dot{a}^{2}\\right)}{a^{2}}$"
      ],
      "text/plain": [
       "  ⎛           2⎞\n",
       "6⋅⎝k + a⋅ä + ȧ ⎠\n",
       "────────────────\n",
       "        2       \n",
       "       a        "
      ]
     },
     "metadata": {},
     "output_type": "display_data"
    },
    {
     "data": {
      "text/latex": [
       "Einstein-tensoren udregnes ud fra formelen: $G_{\\mu \\nu} \\equiv R_{\\mu \\nu}-\\frac{1}{2} g_{\\mu \\nu} \\mathcal{R}=8 \\pi G T_{\\mu \\nu}$ (eq. 2.30 Dodelson):"
      ],
      "text/plain": [
       "<IPython.core.display.Latex object>"
      ]
     },
     "metadata": {},
     "output_type": "display_data"
    },
    {
     "data": {
      "text/latex": [
       "$\\displaystyle \\left[\\begin{matrix}\\frac{3 \\left(k + \\dot{a}^{2}\\right)}{a^{2}} & 0 & 0 & 0\\\\0 & \\frac{k + 2 a \\ddot{a} + \\dot{a}^{2}}{k r^{2} - 1} & 0 & 0\\\\0 & 0 & - r^{2} \\left(k + 2 a \\ddot{a} + \\dot{a}^{2}\\right) & 0\\\\0 & 0 & 0 & - r^{2} \\left(k + 2 a \\ddot{a} + \\dot{a}^{2}\\right) \\sin^{2}{\\left(θ \\right)}\\end{matrix}\\right]$"
      ],
      "text/plain": [
       "⎡  ⎛     2⎞                                                                    ⎤\n",
       "⎢3⋅⎝k + ȧ ⎠                                                                    ⎥\n",
       "⎢──────────        0                  0                         0              ⎥\n",
       "⎢     2                                                                        ⎥\n",
       "⎢    a                                                                         ⎥\n",
       "⎢                                                                              ⎥\n",
       "⎢                         2                                                    ⎥\n",
       "⎢            k + 2⋅a⋅ä + ȧ                                                     ⎥\n",
       "⎢    0       ──────────────           0                         0              ⎥\n",
       "⎢                  2                                                           ⎥\n",
       "⎢               k⋅r  - 1                                                       ⎥\n",
       "⎢                                                                              ⎥\n",
       "⎢                              2 ⎛             2⎞                              ⎥\n",
       "⎢    0             0         -r ⋅⎝k + 2⋅a⋅ä + ȧ ⎠               0              ⎥\n",
       "⎢                                                                              ⎥\n",
       "⎢                                                    2 ⎛             2⎞    2   ⎥\n",
       "⎣    0             0                  0            -r ⋅⎝k + 2⋅a⋅ä + ȧ ⎠⋅sin (θ)⎦"
      ]
     },
     "metadata": {},
     "output_type": "display_data"
    },
    {
     "data": {
      "text/latex": [
       "Einstein-feltligningerne, $G_{αβ}+\\Lambda g_{αβ}=\\kappa T_{αβ}$, for dette tilfælde opskrives:"
      ],
      "text/plain": [
       "<IPython.core.display.Latex object>"
      ]
     },
     "metadata": {},
     "output_type": "display_data"
    },
    {
     "data": {
      "text/latex": [
       "$\\displaystyle \\left[\\begin{matrix}\\frac{3 k - Λ a^{2} + 3 \\dot{a}^{2}}{a^{2}} & 0 & 0 & 0\\\\0 & \\frac{k - Λ a^{2} + 2 a \\ddot{a} + \\dot{a}^{2}}{k r^{2} - 1} & 0 & 0\\\\0 & 0 & r^{2} \\left(- k + Λ a^{2} - 2 a \\ddot{a} - \\dot{a}^{2}\\right) & 0\\\\0 & 0 & 0 & r^{2} \\left(- k + Λ a^{2} - 2 a \\ddot{a} - \\dot{a}^{2}\\right) \\sin^{2}{\\left(θ \\right)}\\end{matrix}\\right] = \\left[\\begin{matrix}8 π G ρ & 0 & 0 & 0\\\\0 & - \\frac{8 P π G a^{2}}{k r^{2} - 1} & 0 & 0\\\\0 & 0 & 8 P r^{2} π G a^{2} & 0\\\\0 & 0 & 0 & 8 P r^{2} π G a^{2} \\sin^{2}{\\left(θ \\right)}\\end{matrix}\\right]$"
      ],
      "text/plain": [
       "⎡         2      2                                                                                         ⎤                                                                \n",
       "⎢3⋅k - Λ⋅a  + 3⋅ȧ                                                                                          ⎥                                                                \n",
       "⎢─────────────────            0                         0                                0                 ⎥   ⎡8⋅π G⋅ρ       0              0                  0          ⎤\n",
       "⎢         2                                                                                                ⎥   ⎢                                                           ⎥\n",
       "⎢        a                                                                                                 ⎥   ⎢                   2                                       ⎥\n",
       "⎢                                                                                                          ⎥   ⎢         -8⋅P⋅π G⋅a                                        ⎥\n",
       "⎢                          2            2                                                                  ⎥   ⎢   0     ────────────        0                  0          ⎥\n",
       "⎢                   k - Λ⋅a  + 2⋅a⋅ä + ȧ                                                                   ⎥   ⎢              2                                            ⎥\n",
       "⎢        0          ─────────────────────               0                                0                 ⎥ = ⎢           k⋅r  - 1                                        ⎥\n",
       "⎢                             2                                                                            ⎥   ⎢                                                           ⎥\n",
       "⎢                          k⋅r  - 1                                                                        ⎥   ⎢                            2      2                       ⎥\n",
       "⎢                                                                                                          ⎥   ⎢   0          0        8⋅P⋅r ⋅π G⋅a             0          ⎥\n",
       "⎢                                           2 ⎛        2            2⎞                                     ⎥   ⎢                                                           ⎥\n",
       "⎢        0                    0            r ⋅⎝-k + Λ⋅a  - 2⋅a⋅ä - ȧ ⎠                   0                 ⎥   ⎢                                           2      2    2   ⎥\n",
       "⎢                                                                                                          ⎥   ⎣   0          0              0        8⋅P⋅r ⋅π G⋅a ⋅sin (θ)⎦\n",
       "⎢                                                                        2 ⎛        2            2⎞    2   ⎥                                                                \n",
       "⎣        0                    0                         0               r ⋅⎝-k + Λ⋅a  - 2⋅a⋅ä - ȧ ⎠⋅sin (θ)⎦                                                                "
      ]
     },
     "metadata": {},
     "output_type": "display_data"
    },
    {
     "data": {
      "text/latex": [
       "Den første Friedmann-ligning findes ud fra Einsteins feltligninger:"
      ],
      "text/plain": [
       "<IPython.core.display.Latex object>"
      ]
     },
     "metadata": {},
     "output_type": "display_data"
    },
    {
     "data": {
      "image/png": "[encoded data removed]",
      "text/latex": [
       "$\\displaystyle \\frac{k + \\dot{a}^{2}}{a^{2}} = \\frac{Λ}{3} + \\frac{8 π G ρ}{3}$"
      ],
      "text/plain": [
       "     2              \n",
       "k + ȧ    Λ   8⋅π G⋅ρ\n",
       "────── = ─ + ───────\n",
       "   2     3      3   \n",
       "  a                 "
      ]
     },
     "metadata": {},
     "output_type": "display_data"
    },
    {
     "data": {
      "text/latex": [
       "Den anden Friedmann-ligning findes ud fra Einsteins feltligninger:"
      ],
      "text/plain": [
       "<IPython.core.display.Latex object>"
      ]
     },
     "metadata": {},
     "output_type": "display_data"
    },
    {
     "data": {
      "image/png": "[encoded data removed]",
      "text/latex": [
       "$\\displaystyle \\frac{\\ddot{a}}{a} = - 4 P π G + \\frac{Λ}{3} - \\frac{4 π G ρ}{3}$"
      ],
      "text/plain": [
       "ä              Λ   4⋅π G⋅ρ\n",
       "─ = -4⋅P⋅π G + ─ - ───────\n",
       "a              3      3   "
      ]
     },
     "metadata": {},
     "output_type": "display_data"
    }
   ],
   "source": [
    "# Denne kode giver et output, der viser en kombination af fremgangsmetoden samt resultaterne fra koden, der benyttes til at udregne Friedmann-ligningerne:\n",
    "\n",
    "display(Latex(f'Her fremgår fremgangsmetoden i store træk for min kode.'))\n",
    "display(Latex(f'Metrikken, $g_{{αβ}}$, defineres:'))\n",
    "display(g)\n",
    "display(Latex(f'Den inverse metrik, $g^{{αβ}}$, defineres:')) \n",
    "display(g_i)\n",
    "display(Latex(f'4-hastigheden, tidsafledet og dobbelttidsafledet af skalfaktoren $u$, $\\dot{{a}}$, $\\ddot{{a}}$, samt Hubble-parameteren, $H$, defineres:'))\n",
    "display(H)\n",
    "display(Latex(f'Generelle funktioner opskrives i min kode'))\n",
    "display(Latex(f'Der laves en funktion, g_diff(α,β,ν), som finder $g_{{αβ}}$ afledt mht $x^ν$.'))\n",
    "display(Latex(f'Der laves en funktion, CS(μ,α,β), der giver et Christoffel-symbol, $Γ^μ_{{αβ}}$.'))\n",
    "display(Latex(r'Christoffel-symboler udregnes ud fra formel: $\\Gamma_{\\alpha \\beta}^\\mu=\\frac{{g^{\\mu \\nu}}}{2}\\left[\\frac{\\partial g_{\\alpha \\nu}}{\\partial x^\\beta}+\\frac{\\partial g_{\\beta \\nu}}{\\partial x^\\alpha}-\\frac{\\partial g_{\\alpha \\beta}}{\\partial x^\\nu}\\right]$ (Dodelson eq. 2.19).'))\n",
    "display(Latex(f'De fundne Christoffel-symboler, som ikke er nul, de er:'))\n",
    "for y in i:\n",
    "    for alfa in i:\n",
    "        for beta in i:\n",
    "            if CS(y,alfa,beta) !=0 :\n",
    "                Gamma = Symbol(rf'Γ^{{{tal[y]}}}_{{{tal[alfa]}{tal[beta]}}}') # Γ^μ_αβ Grafiske fremstillen af CS \n",
    "                Gammma_i = lining(Gamma,CS(y,alfa,beta))\n",
    "display(Latex(f'Der laves en funktion, T_yv(μ,ν), der giver et index til Stress-Energy Tensor, $T_{{μν}}$.'))\n",
    "display(Latex(r'Index til Stress-Energy Tensor, T_μν, findes via denne formel: $T^{\\alpha \\beta}=\\left(\\rho+\\frac{p}{c^2}\\right) u^\\alpha u^\\beta+p g^{\\alpha \\beta}$, der gælder for en perfekt væske i termodynamisk ligevægt ( https://en.wikipedia.org/wiki/Stress%E2%80%93energy_tensor#Stress%E2%80%93energy_of_a_fluid_in_equilibrium ).'))\n",
    "display(Latex(f'Stress-Energy Tensoren opstilles ud fra de fundne værdier med funktionen T_yv(μ,ν), den er:'))\n",
    "display(SET)\n",
    "display(Latex(f'Der opstilles en funktion, CSd(α,μ,ν,β), der differentierer et Christoffel-symbol mht. $x^β$. Dette skrives som $Γ^α_{{μν,β}}$.'))\n",
    "display(Latex(f'Der opstilles en funktion, R(μ,ν), der finder indekser til Ricci Tensoren.'))\n",
    "display(Latex(f'Ricci Tensoren opstilles ud fra de fundne værdier med funktionen R(μ,ν), den er:'))\n",
    "display(RT)\n",
    "display(Latex(r'Ricci Skalaren udregnes ud fra definitionen: $\\mathcal{R} \\equiv g^{\\mu \\nu} R_{\\mu \\nu}$ (eq. 2.36 Dodelson), der er fundet til at være:'))\n",
    "display(RS)\n",
    "display(Latex(r'Einstein-tensoren udregnes ud fra formelen: $G_{\\mu \\nu} \\equiv R_{\\mu \\nu}-\\frac{1}{2} g_{\\mu \\nu} \\mathcal{R}=8 \\pi G T_{\\mu \\nu}$ (eq. 2.30 Dodelson):'))\n",
    "display(ET)\n",
    "display(Latex(f'Einstein-feltligningerne, $G_{{αβ}}+\\Lambda g_{{αβ}}=\\kappa T_{{αβ}}$, for dette tilfælde opskrives:'))\n",
    "EFE(i)\n",
    "display(Latex(f'Den første Friedmann-ligning findes ud fra Einsteins feltligninger:'))\n",
    "# display(FE(0))\n",
    "FE(0)\n",
    "display(Latex(f'Den anden Friedmann-ligning findes ud fra Einsteins feltligninger:'))\n",
    "# display(FE(1))\n",
    "FE(1)\n"
   ]
  },
  {
   "cell_type": "code",
   "execution_count": null,
   "id": "dbecdaab",
   "metadata": {},
   "outputs": [],
   "source": []
  }
 ],
 "metadata": {
  "kernelspec": {
   "display_name": "Python 3 (ipykernel)",
   "language": "python",
   "name": "python3"
  },
  "language_info": {
   "codemirror_mode": {
    "name": "ipython",
    "version": 3
   },
   "file_extension": ".py",
   "mimetype": "text/x-python",
   "name": "python",
   "nbconvert_exporter": "python",
   "pygments_lexer": "ipython3",
   "version": "3.8.8"
  }
 },
 "nbformat": 4,
 "nbformat_minor": 5
}
